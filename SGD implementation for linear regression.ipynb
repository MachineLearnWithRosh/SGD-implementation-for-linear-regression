{
 "cells": [
  {
   "cell_type": "code",
   "execution_count": 1,
   "metadata": {},
   "outputs": [],
   "source": [
    "import warnings\n",
    "warnings.filterwarnings(\"ignore\")\n",
    "from sklearn.datasets import load_boston\n",
    "from random import seed\n",
    "from random import randrange\n",
    "from csv import reader\n",
    "from math import sqrt\n",
    "from sklearn import preprocessing\n",
    "import pandas as pd\n",
    "import numpy as np\n",
    "import matplotlib.pyplot as plt\n",
    "from prettytable import PrettyTable\n",
    "from sklearn.linear_model import SGDRegressor\n",
    "from sklearn import preprocessing\n",
    "from sklearn.metrics import mean_squared_error"
   ]
  },
  {
   "cell_type": "code",
   "execution_count": 2,
   "metadata": {},
   "outputs": [],
   "source": [
    "from sklearn.datasets import load_boston\n",
    "boston = load_boston()"
   ]
  },
  {
   "cell_type": "code",
   "execution_count": 3,
   "metadata": {},
   "outputs": [
    {
     "name": "stdout",
     "output_type": "stream",
     "text": [
      "(506, 13)\n"
     ]
    }
   ],
   "source": [
    "print(boston.data.shape)"
   ]
  },
  {
   "cell_type": "code",
   "execution_count": 4,
   "metadata": {},
   "outputs": [
    {
     "name": "stdout",
     "output_type": "stream",
     "text": [
      "(506,)\n"
     ]
    }
   ],
   "source": [
    "print(boston.target.shape)"
   ]
  },
  {
   "cell_type": "code",
   "execution_count": 5,
   "metadata": {},
   "outputs": [
    {
     "name": "stdout",
     "output_type": "stream",
     "text": [
      "<class 'pandas.core.frame.DataFrame'>\n"
     ]
    }
   ],
   "source": [
    "import pandas as pd\n",
    "bos = pd.DataFrame(boston.data)\n",
    "\n",
    "print(type(bos))"
   ]
  },
  {
   "cell_type": "code",
   "execution_count": 6,
   "metadata": {},
   "outputs": [],
   "source": [
    "bos['PRICE'] = boston.target\n",
    "\n",
    "X = bos.drop('PRICE', axis = 1)\n",
    "Y = bos['PRICE']"
   ]
  },
  {
   "cell_type": "code",
   "execution_count": 7,
   "metadata": {},
   "outputs": [
    {
     "name": "stdout",
     "output_type": "stream",
     "text": [
      "<class 'pandas.core.frame.DataFrame'>\n"
     ]
    }
   ],
   "source": [
    "print(type(X))"
   ]
  },
  {
   "cell_type": "code",
   "execution_count": 8,
   "metadata": {},
   "outputs": [
    {
     "name": "stdout",
     "output_type": "stream",
     "text": [
      "<class 'numpy.ndarray'>\n",
      "<class 'numpy.ndarray'>\n"
     ]
    }
   ],
   "source": [
    "#converting x and y to matrix\n",
    "X=X.as_matrix()\n",
    "print(type(X))\n",
    "\n",
    "Y=Y.as_matrix()\n",
    "print(type(Y))"
   ]
  },
  {
   "cell_type": "code",
   "execution_count": 9,
   "metadata": {},
   "outputs": [
    {
     "data": {
      "text/html": [
       "<div>\n",
       "<style scoped>\n",
       "    .dataframe tbody tr th:only-of-type {\n",
       "        vertical-align: middle;\n",
       "    }\n",
       "\n",
       "    .dataframe tbody tr th {\n",
       "        vertical-align: top;\n",
       "    }\n",
       "\n",
       "    .dataframe thead th {\n",
       "        text-align: right;\n",
       "    }\n",
       "</style>\n",
       "<table border=\"1\" class=\"dataframe\">\n",
       "  <thead>\n",
       "    <tr style=\"text-align: right;\">\n",
       "      <th></th>\n",
       "      <th>0</th>\n",
       "      <th>1</th>\n",
       "      <th>2</th>\n",
       "      <th>3</th>\n",
       "      <th>4</th>\n",
       "      <th>5</th>\n",
       "      <th>6</th>\n",
       "      <th>7</th>\n",
       "      <th>8</th>\n",
       "      <th>9</th>\n",
       "      <th>10</th>\n",
       "      <th>11</th>\n",
       "      <th>12</th>\n",
       "      <th>price</th>\n",
       "    </tr>\n",
       "  </thead>\n",
       "  <tbody>\n",
       "    <tr>\n",
       "      <th>0</th>\n",
       "      <td>-0.416493</td>\n",
       "      <td>-0.465600</td>\n",
       "      <td>-0.612483</td>\n",
       "      <td>-0.222566</td>\n",
       "      <td>-0.928871</td>\n",
       "      <td>-0.101212</td>\n",
       "      <td>-2.266637</td>\n",
       "      <td>0.906669</td>\n",
       "      <td>-0.768893</td>\n",
       "      <td>-1.060561</td>\n",
       "      <td>-0.283675</td>\n",
       "      <td>0.292087</td>\n",
       "      <td>-0.980531</td>\n",
       "      <td>25.3</td>\n",
       "    </tr>\n",
       "    <tr>\n",
       "      <th>1</th>\n",
       "      <td>-0.425346</td>\n",
       "      <td>-0.465600</td>\n",
       "      <td>-0.981708</td>\n",
       "      <td>-0.222566</td>\n",
       "      <td>-0.979762</td>\n",
       "      <td>-0.522899</td>\n",
       "      <td>-0.603873</td>\n",
       "      <td>1.986682</td>\n",
       "      <td>-0.768893</td>\n",
       "      <td>-0.360605</td>\n",
       "      <td>0.136671</td>\n",
       "      <td>0.086819</td>\n",
       "      <td>-0.015801</td>\n",
       "      <td>17.2</td>\n",
       "    </tr>\n",
       "    <tr>\n",
       "      <th>2</th>\n",
       "      <td>0.484042</td>\n",
       "      <td>-0.465600</td>\n",
       "      <td>1.027050</td>\n",
       "      <td>4.493050</td>\n",
       "      <td>0.937147</td>\n",
       "      <td>-0.558688</td>\n",
       "      <td>0.753263</td>\n",
       "      <td>-1.256136</td>\n",
       "      <td>1.593538</td>\n",
       "      <td>1.486337</td>\n",
       "      <td>0.790542</td>\n",
       "      <td>-0.096237</td>\n",
       "      <td>-0.548794</td>\n",
       "      <td>50.0</td>\n",
       "    </tr>\n",
       "    <tr>\n",
       "      <th>3</th>\n",
       "      <td>-0.428239</td>\n",
       "      <td>0.629132</td>\n",
       "      <td>-0.912844</td>\n",
       "      <td>-0.222566</td>\n",
       "      <td>-1.115473</td>\n",
       "      <td>-0.104324</td>\n",
       "      <td>-0.807625</td>\n",
       "      <td>0.755834</td>\n",
       "      <td>-0.656397</td>\n",
       "      <td>-0.778226</td>\n",
       "      <td>0.230081</td>\n",
       "      <td>0.371634</td>\n",
       "      <td>-0.741458</td>\n",
       "      <td>22.9</td>\n",
       "    </tr>\n",
       "    <tr>\n",
       "      <th>4</th>\n",
       "      <td>0.212953</td>\n",
       "      <td>-0.465600</td>\n",
       "      <td>1.027050</td>\n",
       "      <td>-0.222566</td>\n",
       "      <td>1.318833</td>\n",
       "      <td>0.434067</td>\n",
       "      <td>0.764179</td>\n",
       "      <td>-0.468513</td>\n",
       "      <td>1.593538</td>\n",
       "      <td>1.486337</td>\n",
       "      <td>0.790542</td>\n",
       "      <td>0.406429</td>\n",
       "      <td>-0.350504</td>\n",
       "      <td>20.2</td>\n",
       "    </tr>\n",
       "  </tbody>\n",
       "</table>\n",
       "</div>"
      ],
      "text/plain": [
       "          0         1         2         3         4         5         6  \\\n",
       "0 -0.416493 -0.465600 -0.612483 -0.222566 -0.928871 -0.101212 -2.266637   \n",
       "1 -0.425346 -0.465600 -0.981708 -0.222566 -0.979762 -0.522899 -0.603873   \n",
       "2  0.484042 -0.465600  1.027050  4.493050  0.937147 -0.558688  0.753263   \n",
       "3 -0.428239  0.629132 -0.912844 -0.222566 -1.115473 -0.104324 -0.807625   \n",
       "4  0.212953 -0.465600  1.027050 -0.222566  1.318833  0.434067  0.764179   \n",
       "\n",
       "          7         8         9        10        11        12  price  \n",
       "0  0.906669 -0.768893 -1.060561 -0.283675  0.292087 -0.980531   25.3  \n",
       "1  1.986682 -0.768893 -0.360605  0.136671  0.086819 -0.015801   17.2  \n",
       "2 -1.256136  1.593538  1.486337  0.790542 -0.096237 -0.548794   50.0  \n",
       "3  0.755834 -0.656397 -0.778226  0.230081  0.371634 -0.741458   22.9  \n",
       "4 -0.468513  1.593538  1.486337  0.790542  0.406429 -0.350504   20.2  "
      ]
     },
     "execution_count": 9,
     "metadata": {},
     "output_type": "execute_result"
    }
   ],
   "source": [
    "#Splitting whole data into train and test\n",
    "from sklearn.model_selection  import train_test_split\n",
    "X_train, X_test, y_train, y_test=train_test_split(X, Y, test_size=0.33, random_state=4)\n",
    "\n",
    "# applying column standardization on train and test data\n",
    "\n",
    "scaler = preprocessing.StandardScaler()\n",
    "X_train = scaler.fit_transform(X_train)\n",
    "X_test=scaler.transform(X_test)\n",
    "\n",
    "df_train=pd.DataFrame(X_train)\n",
    "df_train['price']=y_train\n",
    "df_train.head()"
   ]
  },
  {
   "cell_type": "markdown",
   "metadata": {},
   "source": [
    "# Manual SGD implementation for Linear regression"
   ]
  },
  {
   "cell_type": "code",
   "execution_count": 18,
   "metadata": {},
   "outputs": [
    {
     "name": "stdout",
     "output_type": "stream",
     "text": [
      "[[-1.0352654   1.09785221 -0.38786525  0.98870655 -1.55943385  2.08464158\n",
      "  -0.13500078 -3.021781    2.21838717 -1.46650904 -1.50931157  0.57928663\n",
      "  -3.60930766]]\n",
      "[22.02635078]\n"
     ]
    }
   ],
   "source": [
    "#SGD implementation for linear regression\n",
    "#function having parameter X_train,y_train,no of iteration,learning rate r\n",
    "#intialising no of iteration=100,learning rate =0.01\n",
    "#batch size=32\n",
    "#X-dim-->(n,d) #Y-dim-->(n,1)\n",
    "\n",
    "W,B,iteration,lr_rate,k=np.zeros(shape=(1,13)),0,100,0.01,32 #intialise W and B to zero\n",
    "\n",
    "while iteration>=0:\n",
    "    w,b,temp_vectors,temp_intercept=W,B,np.zeros(shape=(1,13)),0\n",
    "    data=df_train.sample(32) #sampling random k=batch size=20 data\n",
    "    x=np.array(data.drop('price',axis=1))\n",
    "    y=np.array(data['price'])\n",
    "    \n",
    "    for i in range(k):\n",
    "        temp_vectors+=(-2)*x[i]*(y[i]-(np.dot(w,x[i])+b))#partial differentiation wrt w dl/dw=1/k(-2x)*(y-wTx-b)\n",
    "        temp_intercept+=(-2)*(y[i]-(np.dot(w,x[i])+b))#partial differentiation wrt b dl/db=1/k(-2)*(y-wTx-b)\n",
    "        \n",
    "    W=(w-lr_rate*(temp_vectors)/k)\n",
    "    B=(b-lr_rate*(temp_intercept)/k)\n",
    "    \n",
    "    iteration-=1\n",
    "    \n",
    "    \n",
    "print(W)\n",
    "print(B)"
   ]
  },
  {
   "cell_type": "code",
   "execution_count": 19,
   "metadata": {},
   "outputs": [],
   "source": [
    "\n",
    "#prediction on x_test\n",
    "#https://www.geeksforgeeks.org/numpy-asscalar-in-python/\n",
    "y_predic_lr=[]\n",
    "for i in range(len(X_test)):\n",
    "    val=np.dot(W,X_test[i])+B  #val= wTx+b\n",
    "    y_predic_lr.append(np.asscalar(val))"
   ]
  },
  {
   "cell_type": "code",
   "execution_count": 20,
   "metadata": {},
   "outputs": [
    {
     "data": {
      "image/png": "[encoded data removed]",
      "text/plain": [
       "<Figure size 432x288 with 1 Axes>"
      ]
     },
     "metadata": {
      "needs_background": "light"
     },
     "output_type": "display_data"
    }
   ],
   "source": [
    "#Scatter plot of actual price vs predicted price\n",
    "\n",
    "plt.scatter(y_test,y_predic_lr,color='brown')\n",
    "plt.xlabel('Actual price')\n",
    "plt.ylabel('Predictd price')\n",
    "plt.title('Actual price vs Predicted price')\n",
    "plt.show()"
   ]
  },
  {
   "cell_type": "code",
   "execution_count": 21,
   "metadata": {},
   "outputs": [
    {
     "name": "stdout",
     "output_type": "stream",
     "text": [
      "mean squared error = 30.785686758511293\n"
     ]
    }
   ],
   "source": [
    "MSE_manual_LR=mean_squared_error(y_test,y_predic_lr)\n",
    "print('mean squared error =',MSE_manual_LR)"
   ]
  },
  {
   "cell_type": "markdown",
   "metadata": {},
   "source": [
    "# SGD regression sklearn implementation"
   ]
  },
  {
   "cell_type": "code",
   "execution_count": 25,
   "metadata": {},
   "outputs": [
    {
     "name": "stderr",
     "output_type": "stream",
     "text": [
      "C:\\Users\\Roshan\\Anaconda3\\lib\\site-packages\\sklearn\\linear_model\\stochastic_gradient.py:130: DeprecationWarning: n_iter parameter is deprecated in 0.19 and will be removed in 0.21. Use max_iter and tol instead.\n",
      "  DeprecationWarning)\n"
     ]
    },
    {
     "data": {
      "image/png": "[encoded data removed]",
      "text/plain": [
       "<Figure size 432x288 with 1 Axes>"
      ]
     },
     "metadata": {
      "needs_background": "light"
     },
     "output_type": "display_data"
    }
   ],
   "source": [
    "#SGD regression sklearn implementation\n",
    "\n",
    "#intialising no of iteration=100,eta0=1\n",
    "#taking t=2 and power_t=1 such that for each iteration eta0=eta0/pow(2,1) ,it means half each times\n",
    "\n",
    "model=SGDRegressor(learning_rate='constant',eta0=0.01,penalty=None,n_iter=750)\n",
    "model.fit(X_train,y_train)\n",
    "y_pred_sgd=model.predict(X_test)\n",
    "\n",
    "#Scatter plot of actual price vs predicted price\n",
    "\n",
    "plt.scatter(y_test,y_pred_sgd)\n",
    "plt.xlabel('Actual price')\n",
    "plt.ylabel('Predictd price')\n",
    "plt.title('Actual price vs Predicted price')\n",
    "plt.show()"
   ]
  },
  {
   "cell_type": "code",
   "execution_count": 26,
   "metadata": {},
   "outputs": [
    {
     "name": "stdout",
     "output_type": "stream",
     "text": [
      "mean squared error = 31.325833438486164\n"
     ]
    }
   ],
   "source": [
    "MSE_sgd=mean_squared_error(y_test,y_pred_sgd)\n",
    "print('mean squared error =',MSE_sgd)"
   ]
  },
  {
   "cell_type": "code",
   "execution_count": 27,
   "metadata": {},
   "outputs": [
    {
     "name": "stdout",
     "output_type": "stream",
     "text": [
      "MSE of manual implementation =  30.785686758511293\n",
      "--------------------------------------------------\n",
      "MSE of SGD sklearn implementation =  31.325833438486164\n"
     ]
    }
   ],
   "source": [
    "#comparison between MSE of own implementation and SGD sklearn implementation\n",
    "print('MSE of manual implementation = ',MSE_manual_LR)\n",
    "print('-'*50)\n",
    "print('MSE of SGD sklearn implementation = ',MSE_sgd)"
   ]
  },
  {
   "cell_type": "markdown",
   "metadata": {},
   "source": [
    "# Observations :"
   ]
  },
  {
   "cell_type": "markdown",
   "metadata": {},
   "source": [
    "1. Mean square error of manual implementation is comparitively less than SGD sklearn implementation.\n",
    "2. In the manual implementation, we took the learning rate as 0.01 and iteration as 100 along with batch size(k)=20."
   ]
  },
  {
   "cell_type": "code",
   "execution_count": null,
   "metadata": {},
   "outputs": [],
   "source": []
  }
 ],
 "metadata": {
  "kernelspec": {
   "display_name": "Python 3",
   "language": "python",
   "name": "python3"
  },
  "language_info": {
   "codemirror_mode": {
    "name": "ipython",
    "version": 3
   },
   "file_extension": ".py",
   "mimetype": "text/x-python",
   "name": "python",
   "nbconvert_exporter": "python",
   "pygments_lexer": "ipython3",
   "version": "3.6.0"
  }
 },
 "nbformat": 4,
 "nbformat_minor": 2
}
